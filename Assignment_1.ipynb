{
  "nbformat": 4,
  "nbformat_minor": 0,
  "metadata": {
    "colab": {
      "provenance": []
    },
    "kernelspec": {
      "name": "python3",
      "display_name": "Python 3"
    },
    "language_info": {
      "name": "python"
    }
  },
  "cells": [
    {
      "cell_type": "code",
      "execution_count": 1,
      "metadata": {
        "colab": {
          "base_uri": "https://localhost:8080/"
        },
        "id": "Cfwp0PnNVC-h",
        "outputId": "ec595f92-6afe-4a04-c505-a35cd04ab4b3"
      },
      "outputs": [
        {
          "output_type": "stream",
          "name": "stdout",
          "text": [
            "Aashis pouedl\n",
            "Aashis pouedl\n",
            "Aashis pouedl\n"
          ]
        }
      ],
      "source": [
        "print('Aashis pouedl')\n",
        "print('Aashis pouedl')\n",
        "print('Aashis pouedl')"
      ]
    },
    {
      "cell_type": "code",
      "source": [
        "a=2\n",
        "b=4\n",
        "c=6\n",
        "d=a+b+c\n",
        "print(d)\n",
        "\n",
        "a1='Hello'\n",
        "b1='Aashis'\n",
        "c1=3\n",
        "d1=a1+b1+str(c1)\n",
        "print(d1)"
      ],
      "metadata": {
        "colab": {
          "base_uri": "https://localhost:8080/"
        },
        "id": "mZbsNryNVpbd",
        "outputId": "e1ec6617-ddfc-41dc-85a6-ae38b24d2fa6"
      },
      "execution_count": 2,
      "outputs": [
        {
          "output_type": "stream",
          "name": "stdout",
          "text": [
            "12\n",
            "HelloAashis3\n"
          ]
        }
      ]
    },
    {
      "cell_type": "code",
      "source": [
        "n=7\n",
        "for i in range(1,11):\n",
        "  print(n,'x',i,'=',n*i)\n",
        ""
      ],
      "metadata": {
        "colab": {
          "base_uri": "https://localhost:8080/"
        },
        "id": "z8B0odosVwiu",
        "outputId": "accb7c48-6422-4573-a06c-deab23e026dc"
      },
      "execution_count": 4,
      "outputs": [
        {
          "output_type": "stream",
          "name": "stdout",
          "text": [
            "7 x 1 = 7\n",
            "7 x 2 = 14\n",
            "7 x 3 = 21\n",
            "7 x 4 = 28\n",
            "7 x 5 = 35\n",
            "7 x 6 = 42\n",
            "7 x 7 = 49\n",
            "7 x 8 = 56\n",
            "7 x 9 = 63\n",
            "7 x 10 = 70\n"
          ]
        }
      ]
    },
    {
      "cell_type": "code",
      "source": [
        "n=int(input('Enter the number table is to be printed'))\n",
        "for i in range(1,11):\n",
        "  print(n,'x',i,'=',n*i)"
      ],
      "metadata": {
        "colab": {
          "base_uri": "https://localhost:8080/"
        },
        "id": "xzK14x5CWHig",
        "outputId": "709979d7-9b58-41ab-d3d5-77b033818e2a"
      },
      "execution_count": 5,
      "outputs": [
        {
          "output_type": "stream",
          "name": "stdout",
          "text": [
            "Enter the number table is to be printed8\n",
            "8 x 1 = 8\n",
            "8 x 2 = 16\n",
            "8 x 3 = 24\n",
            "8 x 4 = 32\n",
            "8 x 5 = 40\n",
            "8 x 6 = 48\n",
            "8 x 7 = 56\n",
            "8 x 8 = 64\n",
            "8 x 9 = 72\n",
            "8 x 10 = 80\n"
          ]
        }
      ]
    },
    {
      "cell_type": "code",
      "source": [
        "n=int(input('Enter the nth term='))\n",
        "a=0\n",
        "for i in range(1,n+1):\n",
        "  a=a+i\n",
        "\n",
        "print(a)"
      ],
      "metadata": {
        "colab": {
          "base_uri": "https://localhost:8080/"
        },
        "id": "6T4kTSutW1Lg",
        "outputId": "1921c809-0766-422e-9d20-8fbc0d04ff6e"
      },
      "execution_count": 7,
      "outputs": [
        {
          "output_type": "stream",
          "name": "stdout",
          "text": [
            "Enter the nth term=5\n",
            "15\n"
          ]
        }
      ]
    },
    {
      "cell_type": "code",
      "source": [
        "a=int(input('Enter the first term='))\n",
        "b=int(input('Enter the second term='))\n",
        "c=int(input('Enter the third term='))\n",
        "s=max(a,b,c)\n",
        "print(\"The max Number is=\",s)"
      ],
      "metadata": {
        "colab": {
          "base_uri": "https://localhost:8080/"
        },
        "id": "U852c3x2XHy0",
        "outputId": "3435d6c1-050c-41a3-d72a-9ed7845c3097"
      },
      "execution_count": 11,
      "outputs": [
        {
          "output_type": "stream",
          "name": "stdout",
          "text": [
            "Enter the first term=8\n",
            "Enter the second term=9\n",
            "Enter the third term=11\n",
            "The max Number is= 11\n"
          ]
        }
      ]
    },
    {
      "cell_type": "code",
      "source": [
        "t = 0\n",
        "n = int(input(\"Enter the nth term: \"))\n",
        "\n",
        "for i in range(1, n+1):\n",
        "    if i % 7 == 0 and i % 9 == 0:\n",
        "        t += i\n",
        "\n",
        "print(t)"
      ],
      "metadata": {
        "colab": {
          "base_uri": "https://localhost:8080/"
        },
        "id": "niUVSfumXpqj",
        "outputId": "3ce5f8d7-d116-453b-9b23-1ae88ba8a5c6"
      },
      "execution_count": 13,
      "outputs": [
        {
          "output_type": "stream",
          "name": "stdout",
          "text": [
            "Enter the nth term: 88\n",
            "63\n"
          ]
        }
      ]
    },
    {
      "cell_type": "code",
      "source": [
        "n = int(input(\"Enter the upper limit: \"))\n",
        "prime_sum = 0\n",
        "\n",
        "for number in range(2, n + 1):\n",
        "    is_prime = True\n",
        "\n",
        "    for divisor in range(2, int(number**0.5) + 1):\n",
        "        if number % divisor == 0:\n",
        "            is_prime = False\n",
        "            break\n",
        "\n",
        "    if is_prime:\n",
        "        prime_sum += number\n",
        "\n",
        "print(f\"Sum of prime numbers from 1 to {n}: {prime_sum}\")"
      ],
      "metadata": {
        "colab": {
          "base_uri": "https://localhost:8080/"
        },
        "id": "i88cdG_7X0At",
        "outputId": "074567e0-e68b-4296-dd71-995dfd00bb49"
      },
      "execution_count": 14,
      "outputs": [
        {
          "output_type": "stream",
          "name": "stdout",
          "text": [
            "Enter the upper limit: 5\n",
            "Sum of prime numbers from 1 to 5: 10\n"
          ]
        }
      ]
    },
    {
      "cell_type": "code",
      "source": [
        "def add_number(n):\n",
        "  s = 0\n",
        "  for i in range(1, n+1):\n",
        "    if i % 2 != 0:\n",
        "      s = s + i\n",
        "  return s\n",
        "\n",
        "print(add_number(15))"
      ],
      "metadata": {
        "colab": {
          "base_uri": "https://localhost:8080/"
        },
        "id": "XIvxu_xhX4ft",
        "outputId": "a245b8dd-b187-4991-8be8-e1713c05a2ff"
      },
      "execution_count": 16,
      "outputs": [
        {
          "output_type": "stream",
          "name": "stdout",
          "text": [
            "64\n"
          ]
        }
      ]
    },
    {
      "cell_type": "code",
      "source": [
        "def sum_prime_numbers(n):\n",
        "    if n < 2:\n",
        "        return 0\n",
        "\n",
        "    prime_sum = 0\n",
        "\n",
        "    for number in range(2, n + 1):\n",
        "        is_prime = True\n",
        "\n",
        "        for divisor in range(2, int(number**0.5) + 1):\n",
        "            if number % divisor == 0:\n",
        "                is_prime = False\n",
        "                break\n",
        "        if is_prime:\n",
        "            prime_sum += number\n",
        "\n",
        "    return prime_sum\n",
        "\n",
        "print(sum_prime_numbers(15))"
      ],
      "metadata": {
        "colab": {
          "base_uri": "https://localhost:8080/"
        },
        "id": "plWxAl9cYCW0",
        "outputId": "dcf419be-e040-4675-a6cf-4a1ae6a8a92b"
      },
      "execution_count": 18,
      "outputs": [
        {
          "output_type": "stream",
          "name": "stdout",
          "text": [
            "41\n"
          ]
        }
      ]
    }
  ]
}